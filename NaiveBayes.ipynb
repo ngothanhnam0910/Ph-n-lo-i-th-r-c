{
  "cells": [
    {
      "cell_type": "code",
      "execution_count": null,
      "metadata": {
        "colab": {
          "base_uri": "https://localhost:8080/"
        },
        "id": "Sm18NFJBsdWS",
        "outputId": "110e6598-aa39-4f13-c134-311c7ac1de9b"
      },
      "outputs": [
        {
          "output_type": "stream",
          "name": "stdout",
          "text": [
            "Drive already mounted at /content/drive; to attempt to forcibly remount, call drive.mount(\"/content/drive\", force_remount=True).\n"
          ]
        }
      ],
      "source": [
        "from google.colab import drive\n",
        "drive.mount('/content/drive')"
      ]
    },
    {
      "cell_type": "code",
      "execution_count": null,
      "metadata": {
        "id": "silTnNOUspzB"
      },
      "outputs": [],
      "source": [
        "import email\n",
        "import email.policy\n",
        "import os\n",
        "import random\n",
        "from bs4 import BeautifulSoup\n",
        "import pandas as pd\n",
        "import re\n",
        "from sklearn.feature_extraction.text import CountVectorizer\n",
        "from sklearn.metrics import accuracy_score"
      ]
    },
    {
      "cell_type": "code",
      "execution_count": null,
      "metadata": {
        "id": "PMKp1zaug5q0"
      },
      "outputs": [],
      "source": [
        "base_dir = '/content/drive/MyDrive/project_data/'"
      ]
    },
    {
      "cell_type": "code",
      "execution_count": null,
      "metadata": {
        "id": "Rb_56kGAvZim"
      },
      "outputs": [],
      "source": [
        "label = 'spam'"
      ]
    },
    {
      "cell_type": "code",
      "execution_count": null,
      "metadata": {
        "colab": {
          "base_uri": "https://localhost:8080/"
        },
        "id": "QZoWNxoFviDa",
        "outputId": "331bb0d9-cd57-4ec4-9eed-183165a512e7"
      },
      "outputs": [
        {
          "output_type": "execute_result",
          "data": {
            "text/plain": [
              "501"
            ]
          },
          "metadata": {},
          "execution_count": 143
        }
      ],
      "source": [
        "files = os.listdir(base_dir + label)\n",
        "len(files)"
      ]
    },
    {
      "cell_type": "code",
      "execution_count": null,
      "metadata": {
        "id": "_lOvhkj5hjdX"
      },
      "outputs": [],
      "source": [
        "spam_email_dir = os.listdir(base_dir + 'spam')\n",
        "ham_email_dir = os.listdir(base_dir + 'ham')"
      ]
    },
    {
      "cell_type": "code",
      "execution_count": null,
      "metadata": {
        "id": "ARKJpXu_h0AE"
      },
      "outputs": [],
      "source": [
        "def load_email(is_spam, filename):\n",
        "    directory = base_dir + ('spam' if is_spam else 'ham')\n",
        "    with open(os.path.join(directory, filename), 'rb') as f:\n",
        "        return email.parser.BytesParser(policy=email.policy.default).parse(f)"
      ]
    },
    {
      "cell_type": "code",
      "execution_count": null,
      "metadata": {
        "id": "_Alf_9adkdA8"
      },
      "outputs": [],
      "source": [
        "spam_emails = [load_email(True, filename) for filename in spam_email_dir]\n",
        "ham_emails = [load_email(False, filename) for filename in ham_email_dir]"
      ]
    },
    {
      "cell_type": "code",
      "execution_count": null,
      "metadata": {
        "id": "lHVzDsdk4SJf"
      },
      "outputs": [],
      "source": [
        "for mail in spam_emails:\n",
        "    payload = mail.get_payload()\n",
        "    print(mail.keys())"
      ]
    },
    {
      "cell_type": "code",
      "execution_count": null,
      "metadata": {
        "id": "dRbLxqURo1hl"
      },
      "outputs": [],
      "source": [
        "def process_email(emails, label, data_dictionary, default_topic=None):\n",
        "    for mail in emails:\n",
        "        payload = mail.get_payload()\n",
        "        if isinstance(payload, list):\n",
        "            process_email(payload, label, data_dictionary, default_topic=mail[\"Subject\"])\n",
        "        else:\n",
        "            if 'Content-Type' in mail.keys():\n",
        "                if 'html' in mail['Content-Type'].lower():\n",
        "                    try: \n",
        "                        soup = BeautifulSoup(mail.get_content())\n",
        "                        topic = mail['Subject']\n",
        "                        if topic == None:\n",
        "                            topic = default_topic\n",
        "                        content = soup.body.text\n",
        "                        data_dictionary['topic'].append(topic)\n",
        "                        data_dictionary['content'].append(content)\n",
        "                        data_dictionary['label'].append(label)\n",
        "                    except:\n",
        "                        pass\n",
        "                elif \"plain\" in mail['Content-Type'].lower():\n",
        "                    try: \n",
        "                        topic = mail['Subject']\n",
        "                        if topic == None:\n",
        "                            topic = default_topic\n",
        "                        content = mail.get_content()\n",
        "                        data_dictionary['topic'].append(topic)\n",
        "                        data_dictionary['content'].append(content)\n",
        "                        data_dictionary['label'].append(label)\n",
        "                    except:\n",
        "                        pass\n",
        "                else:\n",
        "                    pass"
      ]
    },
    {
      "cell_type": "code",
      "execution_count": null,
      "metadata": {
        "id": "1wKsnonN2eOp"
      },
      "outputs": [],
      "source": [
        "data_dictionary = {'topic': [], 'content': [], 'label': []}\n",
        "process_email(spam_emails, 1, data_dictionary)\n",
        "process_email(ham_emails, 0, data_dictionary)\n",
        "df = pd.DataFrame(data_dictionary)\n",
        "df.dropna(inplace=True)\n",
        "df = df.sample(frac=1)"
      ]
    },
    {
      "cell_type": "code",
      "execution_count": null,
      "metadata": {
        "colab": {
          "base_uri": "https://localhost:8080/",
          "height": 363
        },
        "id": "Ud7Nd0HL2nQ1",
        "outputId": "22aa8283-4c5d-4cd6-8e28-3babb8889d50"
      },
      "outputs": [
        {
          "output_type": "execute_result",
          "data": {
            "text/html": [
              "\n",
              "  <div id=\"df-df1ab2ec-bdd0-4bd6-82bc-1fc0afd33446\">\n",
              "    <div class=\"colab-df-container\">\n",
              "      <div>\n",
              "<style scoped>\n",
              "    .dataframe tbody tr th:only-of-type {\n",
              "        vertical-align: middle;\n",
              "    }\n",
              "\n",
              "    .dataframe tbody tr th {\n",
              "        vertical-align: top;\n",
              "    }\n",
              "\n",
              "    .dataframe thead th {\n",
              "        text-align: right;\n",
              "    }\n",
              "</style>\n",
              "<table border=\"1\" class=\"dataframe\">\n",
              "  <thead>\n",
              "    <tr style=\"text-align: right;\">\n",
              "      <th></th>\n",
              "      <th>topic</th>\n",
              "      <th>content</th>\n",
              "      <th>label</th>\n",
              "    </tr>\n",
              "  </thead>\n",
              "  <tbody>\n",
              "    <tr>\n",
              "      <th>157</th>\n",
              "      <td>Re: Fw: User Name &amp; Password to Membership To ...</td>\n",
              "      <td>##############################################...</td>\n",
              "      <td>1</td>\n",
              "    </tr>\n",
              "    <tr>\n",
              "      <th>471</th>\n",
              "      <td>You can gain from lowest interest rates in 30 ...</td>\n",
              "      <td>Opportunity is knocking. Why?\\n\\nBecause mortg...</td>\n",
              "      <td>1</td>\n",
              "    </tr>\n",
              "    <tr>\n",
              "      <th>79</th>\n",
              "      <td>Life Insurance Quotes Without the Hassle...   ...</td>\n",
              "      <td>\\n\\nSave up to\\n\\n75% on your Term Life\\nInsur...</td>\n",
              "      <td>1</td>\n",
              "    </tr>\n",
              "    <tr>\n",
              "      <th>1549</th>\n",
              "      <td>RE: A moment of silence for the First Amendmen...</td>\n",
              "      <td>&gt; The problem is that politics have gotten so ...</td>\n",
              "      <td>0</td>\n",
              "    </tr>\n",
              "    <tr>\n",
              "      <th>1692</th>\n",
              "      <td>Re: [SAtalk] SA In The News</td>\n",
              "      <td>On Tue, 20 Aug 2002, Matthew Cline wrote:\\n\\n&gt;...</td>\n",
              "      <td>0</td>\n",
              "    </tr>\n",
              "    <tr>\n",
              "      <th>1075</th>\n",
              "      <td>'Nasty party' warning to Tories</td>\n",
              "      <td>URL: http://www.newsisfree.com/click/-2,865570...</td>\n",
              "      <td>0</td>\n",
              "    </tr>\n",
              "    <tr>\n",
              "      <th>1883</th>\n",
              "      <td>Re: Mplayer</td>\n",
              "      <td>Matthias Saou wrote:\\n\\n&gt;Once upon a time, Roi...</td>\n",
              "      <td>0</td>\n",
              "    </tr>\n",
              "    <tr>\n",
              "      <th>474</th>\n",
              "      <td>Congratulations on Your 6 New Signups</td>\n",
              "      <td>We guarantee you signups before you ever pay\\n...</td>\n",
              "      <td>1</td>\n",
              "    </tr>\n",
              "    <tr>\n",
              "      <th>916</th>\n",
              "      <td>Toddler falls from a first-storey window, save...</td>\n",
              "      <td>URL: http://www.newsisfree.com/click/-1,839867...</td>\n",
              "      <td>0</td>\n",
              "    </tr>\n",
              "    <tr>\n",
              "      <th>2256</th>\n",
              "      <td>Re: Java is for kiddies</td>\n",
              "      <td>Reza B'Far (eBuilt) wrote:\\n&gt; problems.... Why...</td>\n",
              "      <td>0</td>\n",
              "    </tr>\n",
              "  </tbody>\n",
              "</table>\n",
              "</div>\n",
              "      <button class=\"colab-df-convert\" onclick=\"convertToInteractive('df-df1ab2ec-bdd0-4bd6-82bc-1fc0afd33446')\"\n",
              "              title=\"Convert this dataframe to an interactive table.\"\n",
              "              style=\"display:none;\">\n",
              "        \n",
              "  <svg xmlns=\"http://www.w3.org/2000/svg\" height=\"24px\"viewBox=\"0 0 24 24\"\n",
              "       width=\"24px\">\n",
              "    <path d=\"M0 0h24v24H0V0z\" fill=\"none\"/>\n",
              "    <path d=\"M18.56 5.44l.94 2.06.94-2.06 2.06-.94-2.06-.94-.94-2.06-.94 2.06-2.06.94zm-11 1L8.5 8.5l.94-2.06 2.06-.94-2.06-.94L8.5 2.5l-.94 2.06-2.06.94zm10 10l.94 2.06.94-2.06 2.06-.94-2.06-.94-.94-2.06-.94 2.06-2.06.94z\"/><path d=\"M17.41 7.96l-1.37-1.37c-.4-.4-.92-.59-1.43-.59-.52 0-1.04.2-1.43.59L10.3 9.45l-7.72 7.72c-.78.78-.78 2.05 0 2.83L4 21.41c.39.39.9.59 1.41.59.51 0 1.02-.2 1.41-.59l7.78-7.78 2.81-2.81c.8-.78.8-2.07 0-2.86zM5.41 20L4 18.59l7.72-7.72 1.47 1.35L5.41 20z\"/>\n",
              "  </svg>\n",
              "      </button>\n",
              "      \n",
              "  <style>\n",
              "    .colab-df-container {\n",
              "      display:flex;\n",
              "      flex-wrap:wrap;\n",
              "      gap: 12px;\n",
              "    }\n",
              "\n",
              "    .colab-df-convert {\n",
              "      background-color: #E8F0FE;\n",
              "      border: none;\n",
              "      border-radius: 50%;\n",
              "      cursor: pointer;\n",
              "      display: none;\n",
              "      fill: #1967D2;\n",
              "      height: 32px;\n",
              "      padding: 0 0 0 0;\n",
              "      width: 32px;\n",
              "    }\n",
              "\n",
              "    .colab-df-convert:hover {\n",
              "      background-color: #E2EBFA;\n",
              "      box-shadow: 0px 1px 2px rgba(60, 64, 67, 0.3), 0px 1px 3px 1px rgba(60, 64, 67, 0.15);\n",
              "      fill: #174EA6;\n",
              "    }\n",
              "\n",
              "    [theme=dark] .colab-df-convert {\n",
              "      background-color: #3B4455;\n",
              "      fill: #D2E3FC;\n",
              "    }\n",
              "\n",
              "    [theme=dark] .colab-df-convert:hover {\n",
              "      background-color: #434B5C;\n",
              "      box-shadow: 0px 1px 3px 1px rgba(0, 0, 0, 0.15);\n",
              "      filter: drop-shadow(0px 1px 2px rgba(0, 0, 0, 0.3));\n",
              "      fill: #FFFFFF;\n",
              "    }\n",
              "  </style>\n",
              "\n",
              "      <script>\n",
              "        const buttonEl =\n",
              "          document.querySelector('#df-df1ab2ec-bdd0-4bd6-82bc-1fc0afd33446 button.colab-df-convert');\n",
              "        buttonEl.style.display =\n",
              "          google.colab.kernel.accessAllowed ? 'block' : 'none';\n",
              "\n",
              "        async function convertToInteractive(key) {\n",
              "          const element = document.querySelector('#df-df1ab2ec-bdd0-4bd6-82bc-1fc0afd33446');\n",
              "          const dataTable =\n",
              "            await google.colab.kernel.invokeFunction('convertToInteractive',\n",
              "                                                     [key], {});\n",
              "          if (!dataTable) return;\n",
              "\n",
              "          const docLinkHtml = 'Like what you see? Visit the ' +\n",
              "            '<a target=\"_blank\" href=https://colab.research.google.com/notebooks/data_table.ipynb>data table notebook</a>'\n",
              "            + ' to learn more about interactive tables.';\n",
              "          element.innerHTML = '';\n",
              "          dataTable['output_type'] = 'display_data';\n",
              "          await google.colab.output.renderOutput(dataTable, element);\n",
              "          const docLink = document.createElement('div');\n",
              "          docLink.innerHTML = docLinkHtml;\n",
              "          element.appendChild(docLink);\n",
              "        }\n",
              "      </script>\n",
              "    </div>\n",
              "  </div>\n",
              "  "
            ],
            "text/plain": [
              "                                                  topic  ... label\n",
              "157   Re: Fw: User Name & Password to Membership To ...  ...     1\n",
              "471   You can gain from lowest interest rates in 30 ...  ...     1\n",
              "79    Life Insurance Quotes Without the Hassle...   ...  ...     1\n",
              "1549  RE: A moment of silence for the First Amendmen...  ...     0\n",
              "1692                        Re: [SAtalk] SA In The News  ...     0\n",
              "1075                    'Nasty party' warning to Tories  ...     0\n",
              "1883                                        Re: Mplayer  ...     0\n",
              "474               Congratulations on Your 6 New Signups  ...     1\n",
              "916   Toddler falls from a first-storey window, save...  ...     0\n",
              "2256                            Re: Java is for kiddies  ...     0\n",
              "\n",
              "[10 rows x 3 columns]"
            ]
          },
          "metadata": {},
          "execution_count": 151
        }
      ],
      "source": [
        "df.head(10)"
      ]
    },
    {
      "cell_type": "code",
      "execution_count": null,
      "metadata": {
        "id": "JZEbBy2Lausw",
        "colab": {
          "base_uri": "https://localhost:8080/"
        },
        "outputId": "615a1604-8719-46d4-8f44-8a775a7e5265"
      },
      "outputs": [
        {
          "output_type": "stream",
          "name": "stdout",
          "text": [
            "[nltk_data] Downloading package stopwords to /root/nltk_data...\n",
            "[nltk_data]   Package stopwords is already up-to-date!\n"
          ]
        }
      ],
      "source": [
        "import nltk\n",
        "from nltk.stem import PorterStemmer\n",
        "porter_stemmer = PorterStemmer()\n",
        "nltk.download('stopwords')\n",
        "from nltk.corpus import stopwords\n",
        "stopwords = set(stopwords.words('english'))\n",
        "def preprocess_text(content):\n",
        "    content = content.lower()        # Đổi chữ hoa thành chữ thường \n",
        "    content = re.sub(r'^http?:\\/\\/.*[\\r\\n]*', '', content, flags=re.MULTILINE) # Xóa các đường dẫn\n",
        "    cleaner = re.compile('<.*?>')    \n",
        "    content = re.sub(cleaner, '', content)  # Xóa các ký tự đặc biệt\n",
        "    content = content.replace('\\n',' ')  # Xóa dấu xuống dòng\n",
        "    content = re.sub(r\"[^a-zA-Z0-9]+\", ' ', content)  # Xóa các ký tự đặc biệt\n",
        "    content = re.sub(\"^\\d+\\s|\\s\\d+\\s|\\s\\d+$\", \" \", content)  # Loại bỏ đi các chữ số\n",
        "    for stopword in stopwords:\n",
        "        content = content.replace(\" \" + stopword + \" \", \" \")  # Loại bỏ các từ stopwords\n",
        "    content = porter_stemmer.stem(content)  # Lấy từ nguyên mẫu của các từ tiếng anh có trong văn bản\n",
        "    return content"
      ]
    },
    {
      "cell_type": "code",
      "execution_count": null,
      "metadata": {
        "id": "wVL7eQ7vjCDE"
      },
      "outputs": [],
      "source": [
        "\n",
        "topic_and_contents = []\n",
        "for (topic, content) in zip(df[\"topic\"], df[\"content\"]):\n",
        "    topic_and_contents.append(preprocess_text(topic + \" \" + content))  \n",
        "df[\"topic_content\"] = topic_and_contents"
      ]
    },
    {
      "cell_type": "code",
      "source": [
        "df.head(10)"
      ],
      "metadata": {
        "colab": {
          "base_uri": "https://localhost:8080/",
          "height": 363
        },
        "id": "D1yn0_r3M8GH",
        "outputId": "5a61aeb3-866b-4377-e38a-c92e080fb02d"
      },
      "execution_count": null,
      "outputs": [
        {
          "output_type": "execute_result",
          "data": {
            "text/html": [
              "\n",
              "  <div id=\"df-28709fa9-999b-4503-a322-dc0cd97e3824\">\n",
              "    <div class=\"colab-df-container\">\n",
              "      <div>\n",
              "<style scoped>\n",
              "    .dataframe tbody tr th:only-of-type {\n",
              "        vertical-align: middle;\n",
              "    }\n",
              "\n",
              "    .dataframe tbody tr th {\n",
              "        vertical-align: top;\n",
              "    }\n",
              "\n",
              "    .dataframe thead th {\n",
              "        text-align: right;\n",
              "    }\n",
              "</style>\n",
              "<table border=\"1\" class=\"dataframe\">\n",
              "  <thead>\n",
              "    <tr style=\"text-align: right;\">\n",
              "      <th></th>\n",
              "      <th>topic</th>\n",
              "      <th>content</th>\n",
              "      <th>label</th>\n",
              "      <th>topic_content</th>\n",
              "    </tr>\n",
              "  </thead>\n",
              "  <tbody>\n",
              "    <tr>\n",
              "      <th>157</th>\n",
              "      <td>Re: Fw: User Name &amp; Password to Membership To ...</td>\n",
              "      <td>##############################################...</td>\n",
              "      <td>1</td>\n",
              "      <td>re fw user name password membership sites zzzz...</td>\n",
              "    </tr>\n",
              "    <tr>\n",
              "      <th>471</th>\n",
              "      <td>You can gain from lowest interest rates in 30 ...</td>\n",
              "      <td>Opportunity is knocking. Why?\\n\\nBecause mortg...</td>\n",
              "      <td>1</td>\n",
              "      <td>you gain lowest interest rates years opportuni...</td>\n",
              "    </tr>\n",
              "    <tr>\n",
              "      <th>79</th>\n",
              "      <td>Life Insurance Quotes Without the Hassle...   ...</td>\n",
              "      <td>\\n\\nSave up to\\n\\n75% on your Term Life\\nInsur...</td>\n",
              "      <td>1</td>\n",
              "      <td>life insurance quotes without hassle jhiwns sa...</td>\n",
              "    </tr>\n",
              "    <tr>\n",
              "      <th>1549</th>\n",
              "      <td>RE: A moment of silence for the First Amendmen...</td>\n",
              "      <td>&gt; The problem is that politics have gotten so ...</td>\n",
              "      <td>0</td>\n",
              "      <td>re moment silence first amendment fwd problem ...</td>\n",
              "    </tr>\n",
              "    <tr>\n",
              "      <th>1692</th>\n",
              "      <td>Re: [SAtalk] SA In The News</td>\n",
              "      <td>On Tue, 20 Aug 2002, Matthew Cline wrote:\\n\\n&gt;...</td>\n",
              "      <td>0</td>\n",
              "      <td>re satalk sa news tue aug matthew cline wrote ...</td>\n",
              "    </tr>\n",
              "    <tr>\n",
              "      <th>1075</th>\n",
              "      <td>'Nasty party' warning to Tories</td>\n",
              "      <td>URL: http://www.newsisfree.com/click/-2,865570...</td>\n",
              "      <td>0</td>\n",
              "      <td>nasty party warning tories url http www newsi...</td>\n",
              "    </tr>\n",
              "    <tr>\n",
              "      <th>1883</th>\n",
              "      <td>Re: Mplayer</td>\n",
              "      <td>Matthias Saou wrote:\\n\\n&gt;Once upon a time, Roi...</td>\n",
              "      <td>0</td>\n",
              "      <td>re mplayer matthias saou wrote upon time roi w...</td>\n",
              "    </tr>\n",
              "    <tr>\n",
              "      <th>474</th>\n",
              "      <td>Congratulations on Your 6 New Signups</td>\n",
              "      <td>We guarantee you signups before you ever pay\\n...</td>\n",
              "      <td>1</td>\n",
              "      <td>congratulations new signups guarantee signups ...</td>\n",
              "    </tr>\n",
              "    <tr>\n",
              "      <th>916</th>\n",
              "      <td>Toddler falls from a first-storey window, save...</td>\n",
              "      <td>URL: http://www.newsisfree.com/click/-1,839867...</td>\n",
              "      <td>0</td>\n",
              "      <td>toddler falls first storey window saved injury...</td>\n",
              "    </tr>\n",
              "    <tr>\n",
              "      <th>2256</th>\n",
              "      <td>Re: Java is for kiddies</td>\n",
              "      <td>Reza B'Far (eBuilt) wrote:\\n&gt; problems.... Why...</td>\n",
              "      <td>0</td>\n",
              "      <td>re java kiddies reza b far ebuilt wrote proble...</td>\n",
              "    </tr>\n",
              "  </tbody>\n",
              "</table>\n",
              "</div>\n",
              "      <button class=\"colab-df-convert\" onclick=\"convertToInteractive('df-28709fa9-999b-4503-a322-dc0cd97e3824')\"\n",
              "              title=\"Convert this dataframe to an interactive table.\"\n",
              "              style=\"display:none;\">\n",
              "        \n",
              "  <svg xmlns=\"http://www.w3.org/2000/svg\" height=\"24px\"viewBox=\"0 0 24 24\"\n",
              "       width=\"24px\">\n",
              "    <path d=\"M0 0h24v24H0V0z\" fill=\"none\"/>\n",
              "    <path d=\"M18.56 5.44l.94 2.06.94-2.06 2.06-.94-2.06-.94-.94-2.06-.94 2.06-2.06.94zm-11 1L8.5 8.5l.94-2.06 2.06-.94-2.06-.94L8.5 2.5l-.94 2.06-2.06.94zm10 10l.94 2.06.94-2.06 2.06-.94-2.06-.94-.94-2.06-.94 2.06-2.06.94z\"/><path d=\"M17.41 7.96l-1.37-1.37c-.4-.4-.92-.59-1.43-.59-.52 0-1.04.2-1.43.59L10.3 9.45l-7.72 7.72c-.78.78-.78 2.05 0 2.83L4 21.41c.39.39.9.59 1.41.59.51 0 1.02-.2 1.41-.59l7.78-7.78 2.81-2.81c.8-.78.8-2.07 0-2.86zM5.41 20L4 18.59l7.72-7.72 1.47 1.35L5.41 20z\"/>\n",
              "  </svg>\n",
              "      </button>\n",
              "      \n",
              "  <style>\n",
              "    .colab-df-container {\n",
              "      display:flex;\n",
              "      flex-wrap:wrap;\n",
              "      gap: 12px;\n",
              "    }\n",
              "\n",
              "    .colab-df-convert {\n",
              "      background-color: #E8F0FE;\n",
              "      border: none;\n",
              "      border-radius: 50%;\n",
              "      cursor: pointer;\n",
              "      display: none;\n",
              "      fill: #1967D2;\n",
              "      height: 32px;\n",
              "      padding: 0 0 0 0;\n",
              "      width: 32px;\n",
              "    }\n",
              "\n",
              "    .colab-df-convert:hover {\n",
              "      background-color: #E2EBFA;\n",
              "      box-shadow: 0px 1px 2px rgba(60, 64, 67, 0.3), 0px 1px 3px 1px rgba(60, 64, 67, 0.15);\n",
              "      fill: #174EA6;\n",
              "    }\n",
              "\n",
              "    [theme=dark] .colab-df-convert {\n",
              "      background-color: #3B4455;\n",
              "      fill: #D2E3FC;\n",
              "    }\n",
              "\n",
              "    [theme=dark] .colab-df-convert:hover {\n",
              "      background-color: #434B5C;\n",
              "      box-shadow: 0px 1px 3px 1px rgba(0, 0, 0, 0.15);\n",
              "      filter: drop-shadow(0px 1px 2px rgba(0, 0, 0, 0.3));\n",
              "      fill: #FFFFFF;\n",
              "    }\n",
              "  </style>\n",
              "\n",
              "      <script>\n",
              "        const buttonEl =\n",
              "          document.querySelector('#df-28709fa9-999b-4503-a322-dc0cd97e3824 button.colab-df-convert');\n",
              "        buttonEl.style.display =\n",
              "          google.colab.kernel.accessAllowed ? 'block' : 'none';\n",
              "\n",
              "        async function convertToInteractive(key) {\n",
              "          const element = document.querySelector('#df-28709fa9-999b-4503-a322-dc0cd97e3824');\n",
              "          const dataTable =\n",
              "            await google.colab.kernel.invokeFunction('convertToInteractive',\n",
              "                                                     [key], {});\n",
              "          if (!dataTable) return;\n",
              "\n",
              "          const docLinkHtml = 'Like what you see? Visit the ' +\n",
              "            '<a target=\"_blank\" href=https://colab.research.google.com/notebooks/data_table.ipynb>data table notebook</a>'\n",
              "            + ' to learn more about interactive tables.';\n",
              "          element.innerHTML = '';\n",
              "          dataTable['output_type'] = 'display_data';\n",
              "          await google.colab.output.renderOutput(dataTable, element);\n",
              "          const docLink = document.createElement('div');\n",
              "          docLink.innerHTML = docLinkHtml;\n",
              "          element.appendChild(docLink);\n",
              "        }\n",
              "      </script>\n",
              "    </div>\n",
              "  </div>\n",
              "  "
            ],
            "text/plain": [
              "                                                  topic  ...                                      topic_content\n",
              "157   Re: Fw: User Name & Password to Membership To ...  ...  re fw user name password membership sites zzzz...\n",
              "471   You can gain from lowest interest rates in 30 ...  ...  you gain lowest interest rates years opportuni...\n",
              "79    Life Insurance Quotes Without the Hassle...   ...  ...  life insurance quotes without hassle jhiwns sa...\n",
              "1549  RE: A moment of silence for the First Amendmen...  ...  re moment silence first amendment fwd problem ...\n",
              "1692                        Re: [SAtalk] SA In The News  ...  re satalk sa news tue aug matthew cline wrote ...\n",
              "1075                    'Nasty party' warning to Tories  ...   nasty party warning tories url http www newsi...\n",
              "1883                                        Re: Mplayer  ...  re mplayer matthias saou wrote upon time roi w...\n",
              "474               Congratulations on Your 6 New Signups  ...  congratulations new signups guarantee signups ...\n",
              "916   Toddler falls from a first-storey window, save...  ...  toddler falls first storey window saved injury...\n",
              "2256                            Re: Java is for kiddies  ...  re java kiddies reza b far ebuilt wrote proble...\n",
              "\n",
              "[10 rows x 4 columns]"
            ]
          },
          "metadata": {},
          "execution_count": 154
        }
      ]
    },
    {
      "cell_type": "code",
      "source": [
        "df['topic'][27]"
      ],
      "metadata": {
        "colab": {
          "base_uri": "https://localhost:8080/",
          "height": 35
        },
        "id": "CjSu5HT1dbyK",
        "outputId": "500b7fd9-1cef-4efc-e198-02afb1190a81"
      },
      "execution_count": null,
      "outputs": [
        {
          "output_type": "execute_result",
          "data": {
            "application/vnd.google.colaboratory.intrinsic+json": {
              "type": "string"
            },
            "text/plain": [
              "'[ILUG] IMPORTANT.'"
            ]
          },
          "metadata": {},
          "execution_count": 155
        }
      ]
    },
    {
      "cell_type": "code",
      "source": [
        "df['content'][27]"
      ],
      "metadata": {
        "colab": {
          "base_uri": "https://localhost:8080/",
          "height": 122
        },
        "id": "qioE0rB5dkKR",
        "outputId": "1f1a3c30-fe39-48c7-d383-1c46c342070d"
      },
      "execution_count": null,
      "outputs": [
        {
          "output_type": "execute_result",
          "data": {
            "application/vnd.google.colaboratory.intrinsic+json": {
              "type": "string"
            },
            "text/plain": [
              "\"\\n>>From the desk of: DR. SAMUEL EBOKA.\\nTel No: Your Intl. Access Code + 873762692484\\nFax No: Your Intl. Access Code + 873762692485\\nemail : samueleboka2@email.com\\nLagos, Nigeria.\\nDear Sir,\\n\\nIMPORTANT.\\n\\nAfter due deliberation with my colleagues, We have decided to forward to\\nyou this business proposal. We want a reliable \\nperson who could assist us in the transfer the sum of Twenty Million, Five\\nHundred Thousand United States Dollars ( \\n$20,500,000 ). Via International Bank Draft Cashable in any First World\\nCountries.\\n\\nThis fund resulted from an over-invoiced bill from contracts awarded by us\\nunder the budget allocation to our Ministry. This \\nbill has been approved for payment by the other concerned Ministries. The\\ncontract has since been executed, \\ncommissioned and the contractor was paid the actual cost of the contract.\\nWe are left with the balance US$20.5M as part \\nof the over-invoiced amount which we have deliberated over estimated for\\nour own use. But under our protocol division, we \\nas civil servants are forbidden to operate or own foreign accounts. This\\nis why we are soliciting your assistance in this \\nmanner and regard .\\n\\nAs you may want to know and to make you less curious, I got your address\\nfrom adverts in the business directory . I am the \\nChief Accountant/Internal Auditor of the Contract Award Committee ( CAC )\\nof the Nigerian National Petroleum Corporation \\n( NNPC). This transaction is very much free from all sorts of RISKS and\\nTROUBLE from my Government. We the N.N.P.C. \\nOfficials involved in this deal have put in many years in service to this\\nMinistry. We have been exercising patience for this \\nopportunity for so long and to most of us this is a life time opportunity\\nwe cannot afford to miss.\\n\\nWe have agreed to COMPENSATE you duly if agreement is reached by both of\\nus and I and one of my colleagues \\ninvolved in this deal will come to your country to arrange for our share,\\nupon the confirmation from you that the Certified \\nInternational Bank Draft has been Approved and Raised in your favor.\\n\\nConsequent upon your acceptance of this proposal, kindly confirm your\\ninterest by Telephone to me, through my Direct Tel \\nNo: +873-762-692484. (Please Call Direct, DO NOT add my country(234) and\\nCity(1) codes ) . Your indication by revert \\nTelephone to me of your sincere and serious interest will enable me fax\\nyou or brief you of  the PROCEDURES FOR THIS \\nTRANSACTION. If my line is busy, please keep trying you will surely get\\nthrough.\\nNOTE: In the event of your inability to handle this transaction please\\ninform us so that we can look for another reliable \\nperson who can assist in this respect. \\n\\nIt might surprise you why we choose you and trusted you for this\\ntransaction. Yes, we believe that good friends can be \\ndiscovered and business like this can not be realized without mutual\\ntrust. This is why we have decided to trust you for this \\ntransaction. Be further informed that everyone\\x92s interest and\\nsecurity had been considered before you were contacted, so be rest assured\\nand feel free to go into this transaction with \\nus.\\nBut let Honesty and Trust be our watchword throughout this transaction and\\nyour prompt reply will be highly appreciated. \\nThank you, and God bless.\\n\\nBest Regards,\\n\\nDR. SAMUEL  EBOKA.\\n\\nNOTE:- THAT YOU CAN USE THIS ALTERNATIVE EMAIL ADDRESSES:\\nsamueleboka2@email.com , sameboka@uymail.com\\n\\n-- \\nIrish Linux Users' Group: ilug@linux.ie\\nhttp://www.linux.ie/mailman/listinfo/ilug for (un)subscription information.\\nList maintainer: listmaster@linux.ie\\n\\n\""
            ]
          },
          "metadata": {},
          "execution_count": 156
        }
      ]
    },
    {
      "cell_type": "code",
      "source": [
        "df['topic_content'][27]"
      ],
      "metadata": {
        "colab": {
          "base_uri": "https://localhost:8080/",
          "height": 122
        },
        "id": "ZTzDyBV3doAn",
        "outputId": "09cee749-9914-4c92-8f57-1b60feac72d2"
      },
      "execution_count": null,
      "outputs": [
        {
          "output_type": "execute_result",
          "data": {
            "application/vnd.google.colaboratory.intrinsic+json": {
              "type": "string"
            },
            "text/plain": [
              "' ilug important desk dr samuel eboka tel intl access code fax intl access code email samueleboka2 email com lagos nigeria dear sir important due deliberation colleagues decided forward business proposal want reliable person could assist us transfer sum twenty million five hundred thousand united states dollars 500 via international bank draft cashable first world countries fund resulted invoiced bill contracts awarded us budget allocation ministry bill approved payment concerned ministries contract since executed commissioned contractor paid actual cost contract left balance us 5m part invoiced amount deliberated estimated use protocol division civil servants forbidden operate foreign accounts soliciting assistance manner regard may want know make less curious got address adverts business directory chief accountant internal auditor contract award committee cac nigerian national petroleum corporation nnpc transaction much free sorts risks trouble government n n p c officials involved deal put many years service ministry exercising patience opportunity long us life time opportunity cannot afford miss agreed compensate duly agreement reached us and one colleagues involved deal come country arrange share upon confirmation certified international bank draft approved raised favor consequent upon acceptance proposal kindly confirm interest telephone direct tel 762 please call direct add country city codes indication revert telephone sincere serious interest enable fax brief procedures transaction line busy please keep trying surely get note event inability handle transaction please inform us look another reliable person assist respect might surprise choose trusted transaction yes believe good friends discovered business like realized without mutual trust decided trust transaction informed everyone interest security considered contacted rest assured feel free go transaction us let honesty trust watchword throughout transaction prompt reply highly appreciated thank god bless best regards dr samuel eboka note use alternative email addresses samueleboka2 email com sameboka uymail com irish linux users group ilug linux ie list maintainer listmaster linux ie '"
            ]
          },
          "metadata": {},
          "execution_count": 157
        }
      ]
    },
    {
      "cell_type": "code",
      "execution_count": null,
      "metadata": {
        "id": "NNP2zoWCjsQm"
      },
      "outputs": [],
      "source": [
        "vectorizer = CountVectorizer()\n",
        "x = vectorizer.fit_transform(df[\"topic_content\"])\n",
        "x = x.toarray()\n",
        "\n",
        "X = []            #Vector after encode email\n",
        "for i in x:\n",
        "    X.append(i.flatten())\n",
        "Y = df['label']"
      ]
    },
    {
      "cell_type": "code",
      "execution_count": null,
      "metadata": {
        "id": "VR7ODxRCkGS6",
        "colab": {
          "base_uri": "https://localhost:8080/"
        },
        "outputId": "84d6cc2a-beb9-4c78-ba22-aba322cc3a58"
      },
      "outputs": [
        {
          "output_type": "execute_result",
          "data": {
            "text/plain": [
              "157     1\n",
              "471     1\n",
              "79      1\n",
              "1549    0\n",
              "1692    0\n",
              "       ..\n",
              "611     0\n",
              "797     0\n",
              "837     0\n",
              "156     1\n",
              "2108    0\n",
              "Name: label, Length: 2658, dtype: int64"
            ]
          },
          "metadata": {},
          "execution_count": 159
        }
      ],
      "source": [
        "Y"
      ]
    },
    {
      "cell_type": "code",
      "execution_count": null,
      "metadata": {
        "id": "-U0-Z0jLkgkQ",
        "colab": {
          "base_uri": "https://localhost:8080/"
        },
        "outputId": "d140f0ef-b5c9-40e6-ab38-ad6e8b7988e9"
      },
      "outputs": [
        {
          "output_type": "stream",
          "name": "stdout",
          "text": [
            "Number of emails in traning:  2126\n",
            "Number of emails in testing:  532\n"
          ]
        }
      ],
      "source": [
        "from sklearn.model_selection import train_test_split\n",
        "\n",
        "X_train, X_test, y_train, y_test = train_test_split(X, Y, test_size=0.2, random_state=42)\n",
        "\n",
        "print(\"Number of emails in traning: \",len(y_train))\n",
        "print(\"Number of emails in testing: \",len(y_test))"
      ]
    },
    {
      "cell_type": "code",
      "execution_count": null,
      "metadata": {
        "id": "5RSqS9ePkePj",
        "colab": {
          "base_uri": "https://localhost:8080/"
        },
        "outputId": "c4026694-ab51-4a28-a4e0-ad4cdd39ea07"
      },
      "outputs": [
        {
          "output_type": "execute_result",
          "data": {
            "text/plain": [
              "MultinomialNB()"
            ]
          },
          "metadata": {},
          "execution_count": 161
        }
      ],
      "source": [
        "from sklearn.naive_bayes import MultinomialNB\n",
        "clf_NB = MultinomialNB()\n",
        "clf_NB.fit(X_train, y_train)"
      ]
    },
    {
      "cell_type": "code",
      "execution_count": null,
      "metadata": {
        "id": "AwToPqENknlv",
        "colab": {
          "base_uri": "https://localhost:8080/"
        },
        "outputId": "73162689-0a25-4684-a4ed-1feb7d832384"
      },
      "outputs": [
        {
          "output_type": "stream",
          "name": "stdout",
          "text": [
            "Accuracy in testing dataset: 99.06015037593986\n"
          ]
        }
      ],
      "source": [
        "y_pred = clf_NB.predict(X_test)\n",
        "print (f\"Accuracy in testing dataset:\",(100*accuracy_score(y_test, y_pred)))"
      ]
    },
    {
      "cell_type": "code",
      "source": [
        "from sklearn.metrics import confusion_matrix\n",
        "confusion_matrix(y_test, y_pred)"
      ],
      "metadata": {
        "colab": {
          "base_uri": "https://localhost:8080/"
        },
        "id": "V6rj3MrYkGn9",
        "outputId": "db3306b8-93e2-4df2-d592-1ec140065429"
      },
      "execution_count": null,
      "outputs": [
        {
          "output_type": "execute_result",
          "data": {
            "text/plain": [
              "array([[434,   3],\n",
              "       [  2,  93]])"
            ]
          },
          "metadata": {},
          "execution_count": 163
        }
      ]
    },
    {
      "cell_type": "code",
      "source": [
        "import numpy as np\n",
        "x = input(\"input content: \")\n",
        "x = preprocess_text(x)\n",
        "X = [x]\n",
        "print(X)\n",
        "X = vectorizer.transform(X)\n",
        "y_pred = clf_NB.predict(X.toarray())\n",
        "print(y_pred[0])"
      ],
      "metadata": {
        "colab": {
          "base_uri": "https://localhost:8080/"
        },
        "id": "ZVhR31wQBceX",
        "outputId": "00fc516a-f246-4d81-df7b-7614b688726d"
      },
      "execution_count": null,
      "outputs": [
        {
          "output_type": "stream",
          "name": "stdout",
          "text": [
            "input content: New Promotional Announcement  \t Hi Le Xuan, an announcement has been made from Learn Tech, instructor of Adobe Photoshop 2022 Photo Editing.  Hello everyone,  Make your New Year awesome with these amazing deals on my courses.  Learn a new skill today.  Get Lifetime Access to my Udemy courses from $9.99 and up!  Simply click on the links below of the courses you want to enroll in.  For a limited time! Only 3 Days Left!    TOP RATED COURSES  Web Development Ultimate Course - $9.99  Front-End Web Development Ultimate Course 2022 - $12.99  Python 3 Ultimate Course - $9.99  GitLab - $11.99  Visual Studio Code Ultimate Course - $11.99  Bootstrap 4 Ultimate Course - $9.99  JavaScript Ultimate Course - $9.99  CSS3 Ultimate Course - $9.99  HTML5 Ultimate Course - $9.99  Adobe After Effects 2022 Ultimate Course - $9.99  Adobe Animate 2022 Ultimate Course - $9.99  Adobe XD 2022 Ultimate Course - $9.99  Adobe Audition 2022 Ultimate Course - $9.99  Adobe Creative Cloud 2022 Ultimate Course - $11.99  Adobe Dreamweaver 2022 Ultimate Course - $9.99  Adobe Illustrator 2022 Ultimate Course - $9.99  Adobe Premiere Pro 2022 Ultimate Course - $9.99  Adobe Photoshop 2022 Ultimate Course - $9.99  Adobe Photoshop 2022 Photo Editing - $9.99    ADOBE COURSES  Adobe Acrobat Basics - $9.99  Adobe After Effect 2022 Basics - $9.99  Adobe After Effects 2022 Projects - $9.99  Adobe Animate 2022 Basics - $9.99  Adobe Animate 2022 Projects - $9.99  Adobe Audition 2022 Basics - $9.99  Adobe Audition 2022 Projects - $9.99  Adobe Dreamweaver 2022 Basics - $9.99  Adobe Dreamweaver 2022 Projects - $9.99  Adobe Illustrator 2022 Basics - $9.99  Adobe Illustrator 2022 Projects - $9.99  Adobe InDesign 2021 Basics - $9.99  Adobe InDesign 2022 Ultimate Course - $9.99  Adobe Photoshop 2022 Projects - $9.99  Adobe Premiere Pro 2022 Basics - $9.99  Adobe XD 2022 Basics - $9.99  Adobe XD 2022 Projects - $9.99    PRODUCTIVITY COURSES  Asana Ultimate Course 2022 - $9.99  Airtable Ultimate Course - $9.99  Trello Ultimate Course - $9.99  Evernote Ultimate Course - $9.99  Slack Ultimate Course - $9.99    AMAZON COURSES  Amazon EKS Ultimate Course - $9.99  Amazon Sagemaker Ultimate Course - $9.99  Amazon QuickSight Ultimate Course - $9.99  Amazon Glue Ultimate Course - $9.99  Amazon Virtual Private Cloud Ultimate Course - $9.99  Amazon EC2 Ultimate Course - $9.99  Amazon Redshift Ultimate Course - $9.99      MICROSOFT COURSES  Microsoft 365 Ultimate Course - $12.99  Microsoft Excel Ultimate Course - $9.99  Microsoft Power Automate (Flow) Ultimate Course - $9.99  Microsoft Power BI Basics - $9.99  Microsoft PowerApps Ultimate Course - $9.99  Microsoft PowerPoint Ultimate Course - $9.99  Microsoft Publisher - $9.99  Microsoft Teams Ultimate Course - $9.99  Microsoft Word Ultimate Course - $9.99    WEB DEVELOPMENT COURSES  Helm Basics - $9.99  Grafana Basics - $9.99  IntelliJ Basics - $9.99  JDBC Basics - $9.99  JSF Basics - $9.99  Mac Terminal Basics - $9.99  MariaDB Basics - $9.99  A-Frame Framework Basics - $9.99  Angular Material Ultimate Course - $9.99  Apache Groovy Basics - $9.99  Apache Tomcat Basics - $9.99  Apache Web Server Basics - $9.99  Blazor Basics - $9.99  Burp Suite Basics - $9.99  Certified Kubernetes Administrator Basics - $9.99  Chrome Developer Tool Basics - $9.99  Chrome Extension Basics - $9.99  Clojure Basics - $9.99  Code Editor Basics - $9.99  cPanel Ultimate Course - $9.99  Cypress Basics - $9.99  Databrick Basics - $9.99  Debugging Basics - $9.99  Deno Basics - $9.99  Developer Tool Basics - $9.99  Domain Name Basics - $9.99  Domain Trading Basics - $9.99  HTTP Basics - $9.99  Java Web Services - $9.99  Network Monitoring Basics - $9.99  Next.js Basics - $9.99  OpenGL Basics - $9.99  OpenShift Basics - $9.99  Open Broadcaster Basics - $9.99  Prometheus Software Basics - $9.99  PowerShell Basics - $9.99  Server Infrastructure - $9.99  Servlet Basics - $9.99  Sublime Text 3 Basics - $9.99  SVG Ultimate Course - $9.99  Swagger Tool Basics - $9.99  Three.js Basics - $9.99  Web Hosting Basics - $9.99  Webpack Basics - $9.99   ★★ Hurry up! Enroll Today For This Limited Time Offer! Offer Expires in 3 Days ★★\n",
            "['new promotional announcement hi le xuan announcement made learn tech instructor adobe photoshop photo editing hello everyone make new year awesome amazing deals courses learn new skill today get lifetime access udemy courses 99 simply click links courses want enroll limited time days left top rated courses web development ultimate course 99 front end web development ultimate course 12 python ultimate course 99 gitlab 99 visual studio code ultimate course 99 bootstrap ultimate course 99 javascript ultimate course 99 css3 ultimate course 99 html5 ultimate course 99 adobe effects ultimate course 99 adobe animate ultimate course 99 adobe xd ultimate course 99 adobe audition ultimate course 99 adobe creative cloud ultimate course 99 adobe dreamweaver ultimate course 99 adobe illustrator ultimate course 99 adobe premiere pro ultimate course 99 adobe photoshop ultimate course 99 adobe photoshop photo editing 99 adobe courses adobe acrobat basics 99 adobe effect basics 99 adobe effects projects 99 adobe animate basics 99 adobe animate projects 99 adobe audition basics 99 adobe audition projects 99 adobe dreamweaver basics 99 adobe dreamweaver projects 99 adobe illustrator basics 99 adobe illustrator projects 99 adobe indesign basics 99 adobe indesign ultimate course 99 adobe photoshop projects 99 adobe premiere pro basics 99 adobe xd basics 99 adobe xd projects 99 productivity courses asana ultimate course 9 airtable ultimate course 99 trello ultimate course 99 evernote ultimate course 99 slack ultimate course 99 amazon courses amazon eks ultimate course 99 amazon sagemaker ultimate course 99 amazon quicksight ultimate course 99 amazon glue ultimate course 99 amazon virtual private cloud ultimate course 99 amazon ec2 ultimate course 99 amazon redshift ultimate course 99 microsoft courses microsoft ultimate course 99 microsoft excel ultimate course 99 microsoft power automate flow ultimate course 99 microsoft power bi basics 99 microsoft powerapps ultimate course 99 microsoft powerpoint ultimate course 99 microsoft publisher 99 microsoft teams ultimate course 99 microsoft word ultimate course 99 web development courses helm basics 99 grafana basics 99 intellij basics 99 jdbc basics 99 jsf basics 99 mac terminal basics 99 mariadb basics 99 frame framework basics 99 angular material ultimate course 99 apache groovy basics 99 apache tomcat basics 99 apache web server basics 99 blazor basics 99 burp suite basics 99 certified kubernetes administrator basics 99 chrome developer tool basics 99 chrome extension basics 99 clojure basics 99 code editor basics 99 cpanel ultimate course 99 cypress basics 99 databrick basics 99 debugging basics 99 deno basics 99 developer tool basics 99 domain name basics 99 domain trading basics 99 http basics 99 java web services 99 network monitoring basics 99 next js basics 99 opengl basics 99 openshift basics 99 open broadcaster basics 99 prometheus software basics 99 powershell basics 99 server infrastructure 99 servlet basics 99 sublime text basics 99 svg ultimate course 99 swagger tool basics 99 three js basics 99 web hosting basics 99 webpack basics 99 hurry enroll today limited time offer offer expires days ']\n",
            "1\n"
          ]
        }
      ]
    }
  ],
  "metadata": {
    "colab": {
      "provenance": [],
      "collapsed_sections": []
    },
    "kernelspec": {
      "display_name": "Python 3",
      "name": "python3"
    },
    "language_info": {
      "name": "python"
    }
  },
  "nbformat": 4,
  "nbformat_minor": 0
}